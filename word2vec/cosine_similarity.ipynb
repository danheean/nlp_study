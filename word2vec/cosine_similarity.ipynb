{
 "cells": [
  {
   "cell_type": "code",
   "execution_count": 1,
   "metadata": {},
   "outputs": [],
   "source": [
    "\"\"\"\n",
    "- https://wikidocs.net/24603\n",
    "\"\"\"\n",
    "import pandas as pd\n",
    "import numpy as np\n",
    "import re\n",
    "from io import StringIO\n",
    "\n",
    "from repia_search_engine import load_rdata, load_di_u_conf, preprocessing, remove_stopwords\n",
    "\n",
    "from sklearn.feature_extraction.text import TfidfVectorizer\n",
    "from sklearn.metrics.pairwise import cosine_similarity\n",
    "from sklearn.feature_extraction.text import CountVectorizer\n",
    "\n",
    "vectorizer = CountVectorizer(analyzer = 'word',\n",
    "                             tokenizer = None,\n",
    "                             preprocessor = None,\n",
    "                             stop_words = None,\n",
    "                             min_df = 2,\n",
    "                             ngram_range=(1,3),\n",
    "                             max_features = 2000,\n",
    "                             )\n",
    "\n",
    "\n",
    "di_file_path = '../data/di_u.conf'\n",
    "file_path = '../data/nc_doc_1_1.1'\n",
    "\n",
    "#df = pd.DataFrame(load_rdata(file_path), columns=load_di_u_conf(di_file_path))\n",
    "df = pd.DataFrame(load_rdata(di_file_path, file_path))\n",
    "data = df.head(2).copy()"
   ]
  },
  {
   "cell_type": "code",
   "execution_count": 6,
   "metadata": {},
   "outputs": [
    {
     "data": {
      "text/plain": [
       "0    후반기 담임장학 결과 보고회 및 교육과정 컨설팅단 협의회\n",
       "1                  신규교사 협력학습 역량강화 연수\n",
       "Name: ntt_sj, dtype: object"
      ]
     },
     "execution_count": 6,
     "metadata": {},
     "output_type": "execute_result"
    }
   ],
   "source": [
    "data['ntt_sj']"
   ]
  },
  {
   "cell_type": "code",
   "execution_count": 7,
   "metadata": {},
   "outputs": [],
   "source": [
    "#load_rdata(di_file_path, file_path)"
   ]
  },
  {
   "cell_type": "code",
   "execution_count": 10,
   "metadata": {},
   "outputs": [
    {
     "data": {
      "text/plain": [
       "0    1349\n",
       "1    1350\n",
       "Name: ntt_sn, dtype: int64"
      ]
     },
     "execution_count": 10,
     "metadata": {},
     "output_type": "execute_result"
    }
   ],
   "source": [
    "data['ntt_sn'] = data['ntt_sn'].astype(int)\n",
    "data['ntt_sn']"
   ]
  },
  {
   "cell_type": "code",
   "execution_count": 3,
   "metadata": {},
   "outputs": [
    {
     "data": {
      "text/html": [
       "<div>\n",
       "<style scoped>\n",
       "    .dataframe tbody tr th:only-of-type {\n",
       "        vertical-align: middle;\n",
       "    }\n",
       "\n",
       "    .dataframe tbody tr th {\n",
       "        vertical-align: top;\n",
       "    }\n",
       "\n",
       "    .dataframe thead th {\n",
       "        text-align: right;\n",
       "    }\n",
       "</style>\n",
       "<table border=\"1\" class=\"dataframe\">\n",
       "  <thead>\n",
       "    <tr style=\"text-align: right;\">\n",
       "      <th></th>\n",
       "      <th>ntt_sn</th>\n",
       "      <th>ntt_sj</th>\n",
       "      <th>ntt_cn</th>\n",
       "      <th>reg_dt</th>\n",
       "      <th>sys_id</th>\n",
       "      <th>sys_name</th>\n",
       "      <th>bbs_id</th>\n",
       "      <th>menu_navi</th>\n",
       "      <th>menu_url</th>\n",
       "      <th>div_ty</th>\n",
       "      <th>div_nm</th>\n",
       "      <th>bbs_dc</th>\n",
       "      <th>ntt_code</th>\n",
       "    </tr>\n",
       "  </thead>\n",
       "  <tbody>\n",
       "    <tr>\n",
       "      <th>0</th>\n",
       "      <td>1349</td>\n",
       "      <td>후반기 담임장학 결과 보고회 및 교육과정 컨설팅단 협의회</td>\n",
       "      <td>sdfsdfsdf</td>\n",
       "      <td>2018-11-23 20:31:16.000</td>\n",
       "      <td>dgnbe</td>\n",
       "      <td>대구광역시남부교육지원청</td>\n",
       "      <td>1901</td>\n",
       "      <td>직원마당 &gt; 회의실사용신청</td>\n",
       "      <td>https://www.dge.go.kr/dgnbe/na/ntt/selectNttIn...</td>\n",
       "      <td>rnffd</td>\n",
       "      <td>교육지원청</td>\n",
       "      <td></td>\n",
       "      <td>D1349</td>\n",
       "    </tr>\n",
       "    <tr>\n",
       "      <th>1</th>\n",
       "      <td>1350</td>\n",
       "      <td>신규교사 협력학습 역량강화 연수</td>\n",
       "      <td>sdfsdafsdf</td>\n",
       "      <td>2018-11-23 20:35:39.000</td>\n",
       "      <td>dgnbe</td>\n",
       "      <td>대구광역시남부교육지원청</td>\n",
       "      <td>1901</td>\n",
       "      <td>직원마당 &gt; 회의실사용신청</td>\n",
       "      <td>https://www.dge.go.kr/dgnbe/na/ntt/selectNttIn...</td>\n",
       "      <td>rnffd</td>\n",
       "      <td>교육지원청</td>\n",
       "      <td></td>\n",
       "      <td>D1350</td>\n",
       "    </tr>\n",
       "  </tbody>\n",
       "</table>\n",
       "</div>"
      ],
      "text/plain": [
       "  ntt_sn                           ntt_sj      ntt_cn  \\\n",
       "0   1349  후반기 담임장학 결과 보고회 및 교육과정 컨설팅단 협의회   sdfsdfsdf   \n",
       "1   1350                신규교사 협력학습 역량강화 연수  sdfsdafsdf   \n",
       "\n",
       "                    reg_dt sys_id      sys_name bbs_id       menu_navi  \\\n",
       "0  2018-11-23 20:31:16.000  dgnbe  대구광역시남부교육지원청   1901  직원마당 > 회의실사용신청   \n",
       "1  2018-11-23 20:35:39.000  dgnbe  대구광역시남부교육지원청   1901  직원마당 > 회의실사용신청   \n",
       "\n",
       "                                            menu_url div_ty div_nm bbs_dc  \\\n",
       "0  https://www.dge.go.kr/dgnbe/na/ntt/selectNttIn...  rnffd  교육지원청          \n",
       "1  https://www.dge.go.kr/dgnbe/na/ntt/selectNttIn...  rnffd  교육지원청          \n",
       "\n",
       "  ntt_code  \n",
       "0    D1349  \n",
       "1    D1350  "
      ]
     },
     "execution_count": 3,
     "metadata": {},
     "output_type": "execute_result"
    }
   ],
   "source": [
    "data"
   ]
  },
  {
   "cell_type": "code",
   "execution_count": 8,
   "metadata": {},
   "outputs": [
    {
     "name": "stdout",
     "output_type": "stream",
     "text": [
      "0    후반기 담임장학 결과 보고회 및 교육과정 컨설팅단 협의회\n",
      "Name: ntt_sj, dtype: object\n"
     ]
    }
   ],
   "source": [
    "#data['ntt_sj'] = data['ntt_sj'].str.lower()\n",
    "\n",
    "df['ntt_sj'] = df['ntt_sj'].astype('str')\n",
    "\n",
    "print(df['ntt_sj'][:1])\n",
    "\n",
    "#df['ntt_sj'] = df['ntt_sj'].str.lower()"
   ]
  },
  {
   "cell_type": "code",
   "execution_count": 12,
   "metadata": {},
   "outputs": [],
   "source": [
    "data.to_csv('./data_df_2.csv', # file path, file name\n",
    "    sep=',',    # seperator, delimiter (구분자)\n",
    "    na_rep='NaN', # missing data representation (결측값 표기)\n",
    "    index=False)\n",
    "\n",
    "data = pd.read_csv('./data_df_2.csv')"
   ]
  },
  {
   "cell_type": "code",
   "execution_count": 4,
   "metadata": {},
   "outputs": [
    {
     "name": "stdout",
     "output_type": "stream",
     "text": [
      "ntt_sn       object\n",
      "ntt_sj       object\n",
      "ntt_cn       object\n",
      "reg_dt       object\n",
      "sys_id       object\n",
      "sys_name     object\n",
      "bbs_id       object\n",
      "menu_navi    object\n",
      "menu_url     object\n",
      "div_ty       object\n",
      "div_nm       object\n",
      "bbs_dc       object\n",
      "ntt_code     object\n",
      "dtype: object\n"
     ]
    }
   ],
   "source": [
    "print(data.dtypes)"
   ]
  },
  {
   "cell_type": "code",
   "execution_count": 15,
   "metadata": {},
   "outputs": [],
   "source": [
    "#data['ntt_sn'] = data['ntt_sn'].apply(lambda x: x[0])\n",
    "data.set_index('ntt_sn', inplace=True)\n",
    "\n"
   ]
  },
  {
   "cell_type": "code",
   "execution_count": 16,
   "metadata": {},
   "outputs": [
    {
     "data": {
      "text/html": [
       "<div>\n",
       "<style scoped>\n",
       "    .dataframe tbody tr th:only-of-type {\n",
       "        vertical-align: middle;\n",
       "    }\n",
       "\n",
       "    .dataframe tbody tr th {\n",
       "        vertical-align: top;\n",
       "    }\n",
       "\n",
       "    .dataframe thead th {\n",
       "        text-align: right;\n",
       "    }\n",
       "</style>\n",
       "<table border=\"1\" class=\"dataframe\">\n",
       "  <thead>\n",
       "    <tr style=\"text-align: right;\">\n",
       "      <th></th>\n",
       "      <th>ntt_sj</th>\n",
       "      <th>ntt_cn</th>\n",
       "      <th>reg_dt</th>\n",
       "      <th>sys_id</th>\n",
       "      <th>sys_name</th>\n",
       "      <th>bbs_id</th>\n",
       "      <th>menu_navi</th>\n",
       "      <th>menu_url</th>\n",
       "      <th>div_ty</th>\n",
       "      <th>div_nm</th>\n",
       "      <th>bbs_dc</th>\n",
       "      <th>ntt_code</th>\n",
       "    </tr>\n",
       "    <tr>\n",
       "      <th>ntt_sn</th>\n",
       "      <th></th>\n",
       "      <th></th>\n",
       "      <th></th>\n",
       "      <th></th>\n",
       "      <th></th>\n",
       "      <th></th>\n",
       "      <th></th>\n",
       "      <th></th>\n",
       "      <th></th>\n",
       "      <th></th>\n",
       "      <th></th>\n",
       "      <th></th>\n",
       "    </tr>\n",
       "  </thead>\n",
       "  <tbody>\n",
       "    <tr>\n",
       "      <th>1349</th>\n",
       "      <td>후반기 담임장학 결과 보고회 및 교육과정 컨설팅단 협의회</td>\n",
       "      <td>sdfsdfsdf</td>\n",
       "      <td>2018-11-23 20:31:16.000</td>\n",
       "      <td>dgnbe</td>\n",
       "      <td>대구광역시남부교육지원청</td>\n",
       "      <td>1901</td>\n",
       "      <td>직원마당 &gt; 회의실사용신청</td>\n",
       "      <td>https://www.dge.go.kr/dgnbe/na/ntt/selectNttIn...</td>\n",
       "      <td>rnffd</td>\n",
       "      <td>교육지원청</td>\n",
       "      <td>NaN</td>\n",
       "      <td>D1349</td>\n",
       "    </tr>\n",
       "    <tr>\n",
       "      <th>1350</th>\n",
       "      <td>신규교사 협력학습 역량강화 연수</td>\n",
       "      <td>sdfsdafsdf</td>\n",
       "      <td>2018-11-23 20:35:39.000</td>\n",
       "      <td>dgnbe</td>\n",
       "      <td>대구광역시남부교육지원청</td>\n",
       "      <td>1901</td>\n",
       "      <td>직원마당 &gt; 회의실사용신청</td>\n",
       "      <td>https://www.dge.go.kr/dgnbe/na/ntt/selectNttIn...</td>\n",
       "      <td>rnffd</td>\n",
       "      <td>교육지원청</td>\n",
       "      <td>NaN</td>\n",
       "      <td>D1350</td>\n",
       "    </tr>\n",
       "  </tbody>\n",
       "</table>\n",
       "</div>"
      ],
      "text/plain": [
       "                                 ntt_sj      ntt_cn                   reg_dt  \\\n",
       "ntt_sn                                                                         \n",
       "1349    후반기 담임장학 결과 보고회 및 교육과정 컨설팅단 협의회   sdfsdfsdf  2018-11-23 20:31:16.000   \n",
       "1350                  신규교사 협력학습 역량강화 연수  sdfsdafsdf  2018-11-23 20:35:39.000   \n",
       "\n",
       "       sys_id      sys_name  bbs_id       menu_navi  \\\n",
       "ntt_sn                                                \n",
       "1349    dgnbe  대구광역시남부교육지원청    1901  직원마당 > 회의실사용신청   \n",
       "1350    dgnbe  대구광역시남부교육지원청    1901  직원마당 > 회의실사용신청   \n",
       "\n",
       "                                                 menu_url div_ty div_nm  \\\n",
       "ntt_sn                                                                    \n",
       "1349    https://www.dge.go.kr/dgnbe/na/ntt/selectNttIn...  rnffd  교육지원청   \n",
       "1350    https://www.dge.go.kr/dgnbe/na/ntt/selectNttIn...  rnffd  교육지원청   \n",
       "\n",
       "        bbs_dc ntt_code  \n",
       "ntt_sn                   \n",
       "1349       NaN    D1349  \n",
       "1350       NaN    D1350  "
      ]
     },
     "execution_count": 16,
     "metadata": {},
     "output_type": "execute_result"
    }
   ],
   "source": [
    "data.head()"
   ]
  },
  {
   "cell_type": "code",
   "execution_count": 62,
   "metadata": {},
   "outputs": [
    {
     "data": {
      "text/plain": [
       "ntt_sn        int64\n",
       "ntt_sj       object\n",
       "ntt_cn       object\n",
       "reg_dt       object\n",
       "sys_id       object\n",
       "sys_name     object\n",
       "bbs_id       object\n",
       "menu_navi    object\n",
       "menu_url     object\n",
       "div_ty       object\n",
       "div_nm       object\n",
       "bbs_dc       object\n",
       "ntt_code     object\n",
       "dtype: object"
      ]
     },
     "execution_count": 62,
     "metadata": {},
     "output_type": "execute_result"
    }
   ],
   "source": [
    "data.dtypes\n"
   ]
  },
  {
   "cell_type": "code",
   "execution_count": 17,
   "metadata": {},
   "outputs": [],
   "source": [
    "data['ntt_sj'] = data['ntt_sj'].astype(str)"
   ]
  },
  {
   "cell_type": "code",
   "execution_count": 18,
   "metadata": {},
   "outputs": [],
   "source": [
    "tfidf = TfidfVectorizer()\n"
   ]
  },
  {
   "cell_type": "code",
   "execution_count": 19,
   "metadata": {},
   "outputs": [],
   "source": [
    "# 정규 표현식을 적용하는 함수 수정\n",
    "def apply_regex(name):\n",
    "    if isinstance(name, str):\n",
    "        match = re.match(r'^[A-Za-z]+$', name)\n",
    "        return match.group() if match else np.nan\n",
    "    return np.nan"
   ]
  },
  {
   "cell_type": "code",
   "execution_count": 20,
   "metadata": {},
   "outputs": [],
   "source": [
    "#print(data['ntt_sj'])\n",
    "#print(data['ntt_sj'].describe())\n",
    "\n",
    "data['ntt_sj_preprocessing'] = data['ntt_sj'].apply(apply_regex)"
   ]
  },
  {
   "cell_type": "code",
   "execution_count": 21,
   "metadata": {},
   "outputs": [],
   "source": [
    "tfidf_matrix = tfidf.fit_transform(data['ntt_sj'])"
   ]
  },
  {
   "cell_type": "code",
   "execution_count": 22,
   "metadata": {},
   "outputs": [
    {
     "name": "stdout",
     "output_type": "stream",
     "text": [
      "TF-IDF 행렬의 크기(shape) : (2, 11)\n"
     ]
    }
   ],
   "source": [
    "print('TF-IDF 행렬의 크기(shape) :',tfidf_matrix.shape)"
   ]
  },
  {
   "cell_type": "code",
   "execution_count": null,
   "metadata": {},
   "outputs": [],
   "source": [
    "tfidf = TfidfVectorizer()\n",
    "#print(data['ntt_sj'])\n",
    "#print(data['ntt_sj'].describe())\n",
    "\n",
    "#data['ntt_sj_preprocessing'] = data['ntt_sj'].apply(preprocessing)\n",
    "\n",
    "#data['ntt_sj_preprocessing'] = data['ntt_sj'].apply(preprocessing)\n",
    "#data['ntt_sj_preprocessed'] = data['ntt_sj_preprocessing'].apply(remove_stopwords)\n",
    "\n",
    "#title_feature_vector = vectorizer.fit_transform(data['ntt_sj_preprocessed'])\n",
    "#tfidf_matrix = tfidf.fit_transform(data['ntt_sj_preprocessed'])\n",
    "#print(tfidf_matrix.shape)\n",
    "\n",
    "\n",
    "#tfidf_matrix = tfidf.fit_transform(data['ntt_sj'])\n",
    "\n",
    "#print('TF-IDF 행렬의 크기(shape) :',tfidf_matrix.shape)\n",
    "\n",
    "\n"
   ]
  }
 ],
 "metadata": {
  "kernelspec": {
   "display_name": "Python 3.9.19 64-bit ('nlp_study')",
   "language": "python",
   "name": "python3"
  },
  "language_info": {
   "codemirror_mode": {
    "name": "ipython",
    "version": 3
   },
   "file_extension": ".py",
   "mimetype": "text/x-python",
   "name": "python",
   "nbconvert_exporter": "python",
   "pygments_lexer": "ipython3",
   "version": "3.9.19"
  },
  "orig_nbformat": 4,
  "vscode": {
   "interpreter": {
    "hash": "fdd0e5b050a04c79d805d368f5748efdc1bfde37d0baf2155193b64ddc07edfb"
   }
  }
 },
 "nbformat": 4,
 "nbformat_minor": 2
}
